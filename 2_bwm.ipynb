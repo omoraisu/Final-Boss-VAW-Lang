{
 "cells": [
  {
   "cell_type": "markdown",
   "id": "3655b54f",
   "metadata": {},
   "source": [
    "# **BWM: Modeling the Factors Influencing the Implementation of Violence Against Women (VAW) Laws in the Philippines Using Fuzzy Multi-Criteria Decision-Making**\n",
    "**Author**: Daenielle Rai Peladas \n",
    "</br>\n",
    "**Institution**: University of the Philippines - Cebu \n",
    "</br>\n",
    "**Laboratory**: Computational Intelligence and Machine Learning \n",
    "</br>\n",
    "**Advisor**: Associate Professior Dharyll Prince Abellana \n",
    "</br>\n",
    "</br>\n",
    "\n",
    "**Date Created**: May 17, 2025\n",
    "</br>\n",
    "**Date Modified**: May 17, 2025\n",
    "</br>"
   ]
  },
  {
   "cell_type": "markdown",
   "id": "375a6b92",
   "metadata": {},
   "source": [
    "This Jupyter notebook implements the Best-Worst Method (BWM) to prioritize broad categories influencing the factors affecting the implementation of Violence Against Women (VAW) laws in the Philippines.\n",
    "\n",
    "The analysis is based on expert evaluations gathered through interviews, allowing for the identification and ranking of key factors by comparing the most and least important criteria. This prioritization highlights which aspects require the most attention to improve policy implementation effectiveness."
   ]
  },
  {
   "cell_type": "markdown",
   "id": "b26f336e",
   "metadata": {},
   "source": [
    "## **Imports and Setup**"
   ]
  },
  {
   "cell_type": "code",
   "execution_count": 2,
   "id": "65daf792",
   "metadata": {},
   "outputs": [],
   "source": [
    "# Import library\n",
    "from pyDecision.algorithm import bw_method as bwm\n",
    "import numpy as np\n",
    "import pandas as pd\n",
    "import matplotlib.pyplot as plt\n",
    "import seaborn as sns"
   ]
  },
  {
   "cell_type": "markdown",
   "id": "b1ae129c",
   "metadata": {},
   "source": [
    "## **Helper Functions**"
   ]
  },
  {
   "cell_type": "code",
   "execution_count": null,
   "id": "e7126211",
   "metadata": {},
   "outputs": [],
   "source": []
  },
  {
   "cell_type": "markdown",
   "id": "a65048a4",
   "metadata": {},
   "source": [
    "## **Factors Involved**"
   ]
  },
  {
   "cell_type": "markdown",
   "id": "37514089",
   "metadata": {},
   "source": [
    "### **Systemic Issues**"
   ]
  },
  {
   "cell_type": "markdown",
   "id": "75437dd7",
   "metadata": {},
   "source": [
    "| Index | Barrier Description                                                                 |\n",
    "|-------|--------------------------------------------------------------------------------------|\n",
    "| 0     | Slow justice system causing delayed cases                                           |\n",
    "| 1     | Heavy bureaucracy                                                                   |\n",
    "| 2     | Mediation practices                                                                 |\n",
    "| 3     | Lack of legal escalation due to preference of counseling                            |\n",
    "| 4     | Duty-bearers requiring face-to-face confrontation                                   |\n",
    "| 5     | Inadequately trained staff                                                          |\n",
    "| 6     | Inadequately empowered staff                                                        |\n",
    "| 7     | Frequent personnel changes requiring repeated capacity building                     |\n",
    "| 8     | Informal partnerships hinder sustainability connections                             |\n",
    "| 9     | Barangay Protection Orders are not utilized or delayed                              |\n",
    "| 10    | Absence of standardized protocols within help desks                                 |\n",
    "| 11    | Cases being passed around offices without proper attention and resolution           |\n",
    "| 12    | Providing service only for the sake of compliance                                   |\n",
    "| 13    | Lack of confidentiality measures within help desks                                  |\n",
    "| 14    | Jurisdictional limitations and poor inter-barangay collaboration                    |\n"
   ]
  },
  {
   "cell_type": "markdown",
   "id": "3224657e",
   "metadata": {},
   "source": []
  }
 ],
 "metadata": {
  "kernelspec": {
   "display_name": "thesis",
   "language": "python",
   "name": "python3"
  },
  "language_info": {
   "codemirror_mode": {
    "name": "ipython",
    "version": 3
   },
   "file_extension": ".py",
   "mimetype": "text/x-python",
   "name": "python",
   "nbconvert_exporter": "python",
   "pygments_lexer": "ipython3",
   "version": "3.13.1"
  }
 },
 "nbformat": 4,
 "nbformat_minor": 5
}
